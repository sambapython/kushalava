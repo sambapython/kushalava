{
 "cells": [
  {
   "cell_type": "code",
   "execution_count": 2,
   "id": "cdce73f0",
   "metadata": {},
   "outputs": [
    {
     "name": "stdout",
     "output_type": "stream",
     "text": [
      "1885791976192\n",
      "1885791976192\n"
     ]
    }
   ],
   "source": [
    "from copy import deepcopy\n",
    "s=\"HYD\"\n",
    "t=(6000,7000)\n",
    "sub_l=[4000,5000]\n",
    "m=[1000,2000,3000,sub_l,s,t]\n",
    "k=m\n",
    "n=m.copy()\n",
    "p=deepcopy(n)\n",
    "print(id(k))\n",
    "print(id(m))"
   ]
  },
  {
   "cell_type": "code",
   "execution_count": 3,
   "id": "ac09476a",
   "metadata": {},
   "outputs": [
    {
     "name": "stdout",
     "output_type": "stream",
     "text": [
      "1885792047616\n",
      "1885792047616\n",
      "1885792047680\n"
     ]
    }
   ],
   "source": [
    "from copy import deepcopy\n",
    "s=\"HYD\"\n",
    "t=(6000,7000)\n",
    "sub_l=[4000,5000]\n",
    "m=[1000,2000,3000,sub_l,s,t]\n",
    "k=m\n",
    "n=m.copy()\n",
    "p=deepcopy(n)\n",
    "print(id(k))\n",
    "print(id(m))\n",
    "print(id(n))"
   ]
  },
  {
   "cell_type": "code",
   "execution_count": 4,
   "id": "46a0502c",
   "metadata": {},
   "outputs": [
    {
     "name": "stdout",
     "output_type": "stream",
     "text": [
      "1885792046848\n",
      "1885792046848\n",
      "1885792049280\n",
      "1885791047696\n",
      "1885791047696\n"
     ]
    }
   ],
   "source": [
    "from copy import deepcopy\n",
    "s=\"HYD\"\n",
    "t=(6000,7000)\n",
    "sub_l=[4000,5000]\n",
    "m=[1000,2000,3000,sub_l,s,t]\n",
    "k=m\n",
    "n=m.copy()\n",
    "p=deepcopy(n)\n",
    "print(id(k))\n",
    "print(id(m))\n",
    "print(id(n))\n",
    "print(id(n[0]))\n",
    "print(id(m[0]))"
   ]
  },
  {
   "cell_type": "code",
   "execution_count": 6,
   "id": "fdcdb8f8",
   "metadata": {},
   "outputs": [
    {
     "name": "stdout",
     "output_type": "stream",
     "text": [
      "1885792047680\n",
      "1885792047680\n",
      "1885792044032\n",
      "1885791049328\n",
      "1885791049328\n",
      "1885791049328\n"
     ]
    }
   ],
   "source": [
    "from copy import deepcopy\n",
    "s=\"HYD\"\n",
    "t=(6000,7000)\n",
    "sub_l=[4000,5000]\n",
    "m=[1000,2000,3000,sub_l,s,t]\n",
    "k=m\n",
    "n=m.copy()\n",
    "p=deepcopy(n)\n",
    "print(id(k))\n",
    "print(id(m))\n",
    "print(id(n))\n",
    "print(id(n[0]))\n",
    "print(id(m[0]))\n",
    "print(id(p[0]))"
   ]
  },
  {
   "cell_type": "code",
   "execution_count": 8,
   "id": "a529b6e7",
   "metadata": {},
   "outputs": [
    {
     "name": "stdout",
     "output_type": "stream",
     "text": [
      "1885792048384\n",
      "1885792048384\n",
      "1885792044032\n",
      "1885791050768\n",
      "1885791050768\n",
      "1885791050768\n",
      "1885778639488\n",
      "1885778639488\n",
      "1885792050176\n"
     ]
    }
   ],
   "source": [
    "from copy import deepcopy\n",
    "s=\"HYD\"\n",
    "t=(6000,7000)\n",
    "sub_l=[4000,5000]\n",
    "m=[1000,2000,3000,sub_l,s,t]\n",
    "k=m\n",
    "n=m.copy()\n",
    "p=deepcopy(n)\n",
    "print(id(k))\n",
    "print(id(m))\n",
    "print(id(n))\n",
    "print(id(n[0]))\n",
    "print(id(m[0]))\n",
    "print(id(p[0]))\n",
    "print(id(n[3]))\n",
    "print(id(m[3]))\n",
    "print(id(p[3]))"
   ]
  },
  {
   "cell_type": "code",
   "execution_count": 9,
   "id": "8052d537",
   "metadata": {},
   "outputs": [
    {
     "name": "stdout",
     "output_type": "stream",
     "text": [
      "1885792043776\n",
      "1885792043776\n",
      "1885791935936\n",
      "1885791049648\n",
      "1885791049648\n",
      "1885791049648\n",
      "1885792052480\n",
      "1885792052480\n",
      "1885792048384\n",
      "1885791050896\n",
      "1885791050896\n",
      "1885791050896\n"
     ]
    }
   ],
   "source": [
    "from copy import deepcopy\n",
    "s=\"HYD\"\n",
    "t=(6000,7000)\n",
    "sub_l=[4000,5000,[1234,5678]]\n",
    "m=[1000,2000,3000,sub_l,s,t]\n",
    "k=m\n",
    "n=m.copy()\n",
    "p=deepcopy(n)\n",
    "print(id(k))\n",
    "print(id(m))\n",
    "print(id(n))\n",
    "print(id(n[0]))\n",
    "print(id(m[0]))\n",
    "print(id(p[0]))\n",
    "print(id(n[3]))\n",
    "print(id(m[3]))\n",
    "print(id(p[3]))\n",
    "print(id(n[3][0]))\n",
    "print(id(m[3][0]))\n",
    "print(id(p[3][0]))"
   ]
  },
  {
   "cell_type": "code",
   "execution_count": 10,
   "id": "3690856a",
   "metadata": {},
   "outputs": [
    {
     "name": "stdout",
     "output_type": "stream",
     "text": [
      "1885792178304\n",
      "1885792178304\n",
      "1885792178496\n",
      "1885791048656\n",
      "1885791048656\n",
      "1885791048656\n",
      "1885792177984\n",
      "1885792177984\n",
      "1885792043776\n",
      "1885791047536\n",
      "1885791047536\n",
      "1885791047536\n",
      "1885792177856\n",
      "1885792177856\n",
      "1885792178048\n"
     ]
    }
   ],
   "source": [
    "from copy import deepcopy\n",
    "s=\"HYD\"\n",
    "t=(6000,7000)\n",
    "sub_l=[4000,5000,[1234,5678]]\n",
    "m=[1000,2000,3000,sub_l,s,t]\n",
    "k=m\n",
    "n=m.copy()\n",
    "p=deepcopy(n)\n",
    "print(id(k))\n",
    "print(id(m))\n",
    "print(id(n))\n",
    "print(id(n[0]))\n",
    "print(id(m[0]))\n",
    "print(id(p[0]))\n",
    "print(id(n[3]))\n",
    "print(id(m[3]))\n",
    "print(id(p[3]))\n",
    "print(id(n[3][0]))\n",
    "print(id(m[3][0]))\n",
    "print(id(p[3][0]))\n",
    "print(id(n[3][-1]))\n",
    "print(id(m[3][-1]))\n",
    "print(id(p[3][-1]))"
   ]
  },
  {
   "cell_type": "code",
   "execution_count": null,
   "id": "f39e7db3",
   "metadata": {},
   "outputs": [],
   "source": []
  }
 ],
 "metadata": {
  "kernelspec": {
   "display_name": "Python 3 (ipykernel)",
   "language": "python",
   "name": "python3"
  },
  "language_info": {
   "codemirror_mode": {
    "name": "ipython",
    "version": 3
   },
   "file_extension": ".py",
   "mimetype": "text/x-python",
   "name": "python",
   "nbconvert_exporter": "python",
   "pygments_lexer": "ipython3",
   "version": "3.11.3"
  }
 },
 "nbformat": 4,
 "nbformat_minor": 5
}
