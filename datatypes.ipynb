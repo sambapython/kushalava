{
 "cells": [
  {
   "cell_type": "code",
   "execution_count": 1,
   "id": "906e33da",
   "metadata": {},
   "outputs": [
    {
     "name": "stdout",
     "output_type": "stream",
     "text": [
      "10 <class 'int'>\n",
      "12.34 <class 'float'>\n",
      "None <class 'NoneType'>\n",
      "(1+2j) <class 'complex'>\n",
      "hyderabad <class 'str'>\n",
      "[1000, 2000, 3000] <class 'list'>\n",
      "(1000, 2000, 3000) <class 'tuple'>\n",
      "{1000, 3000, 2000} <class 'set'>\n",
      "{'name': 'Rama'} <class 'dict'>\n",
      "True <class 'bool'>\n",
      "False <class 'bool'>\n"
     ]
    }
   ],
   "source": [
    "a=10\n",
    "print(a, type(a))\n",
    "a=12.34\n",
    "print(a, type(a))\n",
    "a=None\n",
    "print(a, type(a))\n",
    "a=1+2j\n",
    "print(a, type(a))\n",
    "a=\"hyderabad\"\n",
    "print(a, type(a))\n",
    "a=[1000,2000,3000]\n",
    "print(a, type(a))\n",
    "a=(1000,2000,3000)\n",
    "print(a, type(a))\n",
    "a={1000,2000,3000}\n",
    "print(a, type(a))\n",
    "a={\"name\":\"Rama\"}\n",
    "print(a, type(a))\n",
    "a=True\n",
    "print(a, type(a))\n",
    "a=False\n",
    "print(a, type(a))\n"
   ]
  },
  {
   "cell_type": "code",
   "execution_count": null,
   "id": "228e9384",
   "metadata": {},
   "outputs": [],
   "source": [
    "a=1000\n",
    "b=a\n",
    "c=2000\n",
    "d=1000\n",
    "a=3000\n",
    "b=4000\n",
    "c=5000"
   ]
  },
  {
   "cell_type": "code",
   "execution_count": 2,
   "id": "02c32722",
   "metadata": {},
   "outputs": [],
   "source": [
    "a:int=1000"
   ]
  },
  {
   "cell_type": "code",
   "execution_count": null,
   "id": "a20b0e72",
   "metadata": {},
   "outputs": [],
   "source": [
    "f=12.34\n",
    "s=\"Hyd\"\n",
    "l=[1000,2000,3000,s,4000,f]\n",
    "t=(1000,2000,3000)"
   ]
  },
  {
   "cell_type": "code",
   "execution_count": 3,
   "id": "1066fcad",
   "metadata": {},
   "outputs": [
    {
     "name": "stdout",
     "output_type": "stream",
     "text": [
      "HYD <class 'str'>\n"
     ]
    }
   ],
   "source": [
    "s=\"HYD\"\n",
    "print(s, type(s))"
   ]
  },
  {
   "cell_type": "code",
   "execution_count": 4,
   "id": "4dffd0d5",
   "metadata": {},
   "outputs": [
    {
     "name": "stdout",
     "output_type": "stream",
     "text": [
      "HYD 2076579911344 <class 'str'>\n",
      "H 140716212830600 <class 'str'>\n"
     ]
    }
   ],
   "source": [
    "s=\"HYD\"\n",
    "print(s, id(s), type(s))\n",
    "print(s[0], id(s[0]), type(s[0]))"
   ]
  },
  {
   "cell_type": "code",
   "execution_count": 5,
   "id": "da1cfe01",
   "metadata": {},
   "outputs": [
    {
     "name": "stdout",
     "output_type": "stream",
     "text": [
      "HY4 2076580070832 <class 'str'>\n",
      "H 140716212830600 <class 'str'>\n",
      "Y 140716212831552 <class 'str'>\n",
      "4 140716212829480 <class 'str'>\n"
     ]
    }
   ],
   "source": [
    "s=\"HY4\"\n",
    "print(s, id(s), type(s))\n",
    "print(s[0], id(s[0]), type(s[0]))\n",
    "print(s[1], id(s[1]), type(s[1]))\n",
    "print(s[2], id(s[2]), type(s[2]))"
   ]
  },
  {
   "cell_type": "code",
   "execution_count": 6,
   "id": "b0703b0a",
   "metadata": {},
   "outputs": [
    {
     "name": "stdout",
     "output_type": "stream",
     "text": [
      "H 140716212830600\n",
      "H 140716212830600\n"
     ]
    }
   ],
   "source": [
    "s=\"HYD\"\n",
    "s1=\"PHE\"\n",
    "print(s[0], id(s[0]))\n",
    "print(s1[1], id(s1[1]))"
   ]
  },
  {
   "cell_type": "code",
   "execution_count": null,
   "id": "7392161d",
   "metadata": {},
   "outputs": [],
   "source": [
    "from copy import deepcopy\n",
    "s=\"HYD\"\n",
    "t=(6000,7000)\n",
    "sub_l=[4000,5000]\n",
    "m=[1000,2000,3000,l,s,t]\n",
    "k=m\n",
    "n=m.copy()\n",
    "p=deepcopy(n)\n"
   ]
  },
  {
   "cell_type": "code",
   "execution_count": null,
   "id": "30798bb7",
   "metadata": {},
   "outputs": [],
   "source": [
    "l=[1000,2000]\n",
    "t=(1000,2000)\n"
   ]
  },
  {
   "cell_type": "code",
   "execution_count": 7,
   "id": "cc6d03da",
   "metadata": {},
   "outputs": [
    {
     "ename": "TypeError",
     "evalue": "'set' object is not subscriptable",
     "output_type": "error",
     "traceback": [
      "\u001b[1;31m---------------------------------------------------------------------------\u001b[0m",
      "\u001b[1;31mTypeError\u001b[0m                                 Traceback (most recent call last)",
      "Cell \u001b[1;32mIn[7], line 2\u001b[0m\n\u001b[0;32m      1\u001b[0m s\u001b[38;5;241m=\u001b[39m{\u001b[38;5;241m1000\u001b[39m,\u001b[38;5;241m2000\u001b[39m}\n\u001b[1;32m----> 2\u001b[0m \u001b[38;5;28mprint\u001b[39m(s[\u001b[38;5;241m0\u001b[39m])\n",
      "\u001b[1;31mTypeError\u001b[0m: 'set' object is not subscriptable"
     ]
    }
   ],
   "source": [
    "s={1000,2000}\n",
    "print(s[0])"
   ]
  },
  {
   "cell_type": "code",
   "execution_count": 9,
   "id": "b1161245",
   "metadata": {},
   "outputs": [
    {
     "name": "stdout",
     "output_type": "stream",
     "text": [
      "{1000, 2000} <class 'set'> 2076579558144\n",
      "{1000, 4000, 2000} <class 'set'> 2076579558144\n",
      "{1000, 4000, 2000}\n"
     ]
    }
   ],
   "source": [
    "s={1000,2000}\n",
    "print(s, type(s), id(s))\n",
    "s.add(4000)\n",
    "print(s, type(s), id(s))\n",
    "\n",
    "print(s)"
   ]
  },
  {
   "cell_type": "code",
   "execution_count": 10,
   "id": "bcc09b2a",
   "metadata": {},
   "outputs": [
    {
     "name": "stdout",
     "output_type": "stream",
     "text": [
      "HYD <class 'str'> 2076580079792\n",
      "HYD <class 'str'> 2076580079792\n"
     ]
    }
   ],
   "source": [
    "s=\"HYD\"\n",
    "print(s, type(s),id(s))\n",
    "s.replace(\"H\",\"h\")\n",
    "print(s, type(s), id(s))"
   ]
  },
  {
   "cell_type": "code",
   "execution_count": 11,
   "id": "33fe7839",
   "metadata": {},
   "outputs": [
    {
     "name": "stdout",
     "output_type": "stream",
     "text": [
      "HYD <class 'str'> 2076580079792\n",
      "HYD <class 'str'> 2076580079792\n",
      "hYD <class 'str'> 2076593375728\n"
     ]
    }
   ],
   "source": [
    "s=\"HYD\"\n",
    "print(s, type(s),id(s))\n",
    "s1=s.replace(\"H\",\"h\")\n",
    "print(s, type(s), id(s))\n",
    "print(s1, type(s1), id(s1))\n"
   ]
  },
  {
   "cell_type": "code",
   "execution_count": 12,
   "id": "0e09f2f5",
   "metadata": {},
   "outputs": [
    {
     "name": "stdout",
     "output_type": "stream",
     "text": [
      "['__add__', '__class__', '__class_getitem__', '__contains__', '__delattr__', '__dir__', '__doc__', '__eq__', '__format__', '__ge__', '__getattribute__', '__getitem__', '__getnewargs__', '__getstate__', '__gt__', '__hash__', '__init__', '__init_subclass__', '__iter__', '__le__', '__len__', '__lt__', '__mul__', '__ne__', '__new__', '__reduce__', '__reduce_ex__', '__repr__', '__rmul__', '__setattr__', '__sizeof__', '__str__', '__subclasshook__', 'count', 'index']\n"
     ]
    }
   ],
   "source": [
    "t=(1000,200)\n",
    "print(dir(t))"
   ]
  },
  {
   "cell_type": "code",
   "execution_count": null,
   "id": "c0f66e1b",
   "metadata": {},
   "outputs": [],
   "source": [
    "s=\"HYD\"\n",
    "print(s, type(s),id(s))\n",
    "s1=s.replace(\"H\",\"h\")\n",
    "print(s, type(s), id(s))\n",
    "print(s1, type(s1), id(s1))\n"
   ]
  },
  {
   "cell_type": "code",
   "execution_count": null,
   "id": "be1d0f04",
   "metadata": {},
   "outputs": [],
   "source": [
    "from copy import deepcopy\n",
    "s=\"HYD\"\n",
    "t=(6000,7000)\n",
    "sub_l=[4000,5000]\n",
    "m=[1000,2000,3000,l,s,t]\n",
    "k=m\n",
    "n=m.copy()\n",
    "p=deepcopy(n)"
   ]
  }
 ],
 "metadata": {
  "kernelspec": {
   "display_name": "Python 3 (ipykernel)",
   "language": "python",
   "name": "python3"
  },
  "language_info": {
   "codemirror_mode": {
    "name": "ipython",
    "version": 3
   },
   "file_extension": ".py",
   "mimetype": "text/x-python",
   "name": "python",
   "nbconvert_exporter": "python",
   "pygments_lexer": "ipython3",
   "version": "3.11.3"
  }
 },
 "nbformat": 4,
 "nbformat_minor": 5
}
