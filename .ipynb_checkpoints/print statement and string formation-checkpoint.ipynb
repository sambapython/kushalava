{
 "cells": [
  {
   "cell_type": "code",
   "execution_count": 1,
   "id": "9071f07d",
   "metadata": {},
   "outputs": [
    {
     "name": "stdout",
     "output_type": "stream",
     "text": [
      "HI\n",
      "HELLO\n"
     ]
    }
   ],
   "source": [
    "print(\"HI\")# end=\"\\n\"\n",
    "print(\"HELLO\")"
   ]
  },
  {
   "cell_type": "code",
   "execution_count": 3,
   "id": "706e5a97",
   "metadata": {},
   "outputs": [
    {
     "name": "stdout",
     "output_type": "stream",
     "text": [
      "HI HELLO\n"
     ]
    }
   ],
   "source": [
    "print(\"HI\",\"HELLO\")#sep=\" \""
   ]
  },
  {
   "cell_type": "code",
   "execution_count": 4,
   "id": "5552ef92",
   "metadata": {},
   "outputs": [
    {
     "name": "stdout",
     "output_type": "stream",
     "text": [
      "HI HELLO\n"
     ]
    }
   ],
   "source": [
    "print(\"HI\",end=\" \")\n",
    "print(\"HELLO\")"
   ]
  },
  {
   "cell_type": "code",
   "execution_count": 5,
   "id": "1a2cf9c6",
   "metadata": {},
   "outputs": [
    {
     "name": "stdout",
     "output_type": "stream",
     "text": [
      "HI%HELLO\n"
     ]
    }
   ],
   "source": [
    "print(\"HI\",\"HELLO\",sep=\"%\")#sep=\" \""
   ]
  },
  {
   "cell_type": "code",
   "execution_count": 6,
   "id": "a93bb5df",
   "metadata": {},
   "outputs": [
    {
     "name": "stdout",
     "output_type": "stream",
     "text": [
      "asflkdj dskjf\n",
      "sdjflkdsjfdsjfl\n"
     ]
    }
   ],
   "source": [
    "print(\"asflkdj dskjf\\nsdjflkdsjfdsjfl\")"
   ]
  },
  {
   "cell_type": "code",
   "execution_count": 7,
   "id": "49bced52",
   "metadata": {},
   "outputs": [
    {
     "name": "stdout",
     "output_type": "stream",
     "text": [
      "MENU\n",
      "1.add\n",
      "2.sub\n",
      "3.mul\n",
      "4.div\n"
     ]
    }
   ],
   "source": [
    "print(\"MENU\\n1.add\\n2.sub\\n3.mul\\n4.div\")"
   ]
  },
  {
   "cell_type": "code",
   "execution_count": 8,
   "id": "1ec3c174",
   "metadata": {},
   "outputs": [
    {
     "name": "stdout",
     "output_type": "stream",
     "text": [
      "MENU\n",
      "    1.add\n",
      "    2.sub\n",
      "    3.mul\n",
      "    4.div\n"
     ]
    }
   ],
   "source": [
    "print(\"MENU\\n    1.add\\n    2.sub\\n    3.mul\\n    4.div\")"
   ]
  },
  {
   "cell_type": "code",
   "execution_count": 9,
   "id": "6cf30ffc",
   "metadata": {},
   "outputs": [
    {
     "name": "stdout",
     "output_type": "stream",
     "text": [
      "MENU\n",
      "\t1.add\n",
      "\t2.sub\n",
      "\t3.mul\n",
      "\t4.div\n"
     ]
    }
   ],
   "source": [
    "print(\"MENU\\n\\t1.add\\n\\t2.sub\\n\\t3.mul\\n\\t4.div\")"
   ]
  },
  {
   "cell_type": "code",
   "execution_count": 10,
   "id": "891b879c",
   "metadata": {},
   "outputs": [
    {
     "data": {
      "text/plain": [
       "2"
      ]
     },
     "execution_count": 10,
     "metadata": {},
     "output_type": "execute_result"
    }
   ],
   "source": [
    "len(\"sb\")"
   ]
  },
  {
   "cell_type": "code",
   "execution_count": 11,
   "id": "b336ec53",
   "metadata": {},
   "outputs": [
    {
     "data": {
      "text/plain": [
       "1"
      ]
     },
     "execution_count": 11,
     "metadata": {},
     "output_type": "execute_result"
    }
   ],
   "source": [
    "len(\"\\n\")"
   ]
  },
  {
   "cell_type": "code",
   "execution_count": 12,
   "id": "5dcfe9ec",
   "metadata": {},
   "outputs": [
    {
     "data": {
      "text/plain": [
       "1"
      ]
     },
     "execution_count": 12,
     "metadata": {},
     "output_type": "execute_result"
    }
   ],
   "source": [
    "len(\"\\t\")"
   ]
  },
  {
   "cell_type": "code",
   "execution_count": 13,
   "id": "0dc5d039",
   "metadata": {},
   "outputs": [
    {
     "name": "stdout",
     "output_type": "stream",
     "text": [
      "\\n\n"
     ]
    }
   ],
   "source": [
    "print(\"\\\\n\")"
   ]
  },
  {
   "cell_type": "code",
   "execution_count": 14,
   "id": "686f0276",
   "metadata": {},
   "outputs": [
    {
     "name": "stdout",
     "output_type": "stream",
     "text": [
      "MENU\\n\\t1.add\\n\\t2.sub\\n\\t3.mul\\n\\t4.div\n"
     ]
    }
   ],
   "source": [
    "print(r\"MENU\\n\\t1.add\\n\\t2.sub\\n\\t3.mul\\n\\t4.div\")"
   ]
  },
  {
   "cell_type": "code",
   "execution_count": 15,
   "id": "78e37cdc",
   "metadata": {},
   "outputs": [
    {
     "data": {
      "text/plain": [
       "2"
      ]
     },
     "execution_count": 15,
     "metadata": {},
     "output_type": "execute_result"
    }
   ],
   "source": [
    "len(r\"\\n\")"
   ]
  },
  {
   "cell_type": "code",
   "execution_count": 16,
   "id": "2ca97080",
   "metadata": {},
   "outputs": [
    {
     "name": "stdout",
     "output_type": "stream",
     "text": [
      "LAxman is 30 years old\n"
     ]
    }
   ],
   "source": [
    "name=\"RAM\"\n",
    "age=28\n",
    "#RAM is 28 years old.\n",
    "name=\"LAxman\"\n",
    "age=30\n",
    "#Laxman is 30 years old\n",
    "print(name,\"is\",age,\"years old\")"
   ]
  },
  {
   "cell_type": "code",
   "execution_count": 18,
   "id": "96c40ea7",
   "metadata": {},
   "outputs": [
    {
     "name": "stdout",
     "output_type": "stream",
     "text": [
      "LAxman is 30 years old\n",
      "LAxman\n",
      "{name}\n"
     ]
    }
   ],
   "source": [
    "name=\"RAM\"\n",
    "age=28\n",
    "#RAM is 28 years old.\n",
    "name=\"LAxman\"\n",
    "age=30\n",
    "#Laxman is 30 years old\n",
    "print(name,\"is\",age,\"years old\")\n",
    "print(f\"{name}\")\n",
    "print(\"{name}\")"
   ]
  },
  {
   "cell_type": "code",
   "execution_count": 19,
   "id": "5db94d7d",
   "metadata": {},
   "outputs": [
    {
     "name": "stdout",
     "output_type": "stream",
     "text": [
      "LAxman is 30 years old\n",
      "LAxman is 30 years old\n",
      "{name}\n"
     ]
    }
   ],
   "source": [
    "name=\"RAM\"\n",
    "age=28\n",
    "#RAM is 28 years old.\n",
    "name=\"LAxman\"\n",
    "age=30\n",
    "#Laxman is 30 years old\n",
    "print(name,\"is\",age,\"years old\")\n",
    "print(f\"{name} is {age} years old\")\n",
    "print(\"{name}\")"
   ]
  },
  {
   "cell_type": "code",
   "execution_count": 20,
   "id": "93d80bed",
   "metadata": {},
   "outputs": [
    {
     "name": "stdout",
     "output_type": "stream",
     "text": [
      "LAxman is 30 years old\n",
      "LAxman is 30 years old\n",
      "%s is %s years old ('LAxman', 30)\n"
     ]
    }
   ],
   "source": [
    "name=\"RAM\"\n",
    "age=28\n",
    "#RAM is 28 years old.\n",
    "name=\"LAxman\"\n",
    "age=30\n",
    "#Laxman is 30 years old\n",
    "print(name,\"is\",age,\"years old\")\n",
    "print(f\"{name} is {age} years old\")\n",
    "print(\"%s is %s years old\",(name, age))"
   ]
  },
  {
   "cell_type": "code",
   "execution_count": 21,
   "id": "76502e12",
   "metadata": {},
   "outputs": [
    {
     "name": "stdout",
     "output_type": "stream",
     "text": [
      "LAxman is 30 years old\n",
      "LAxman is 30 years old\n",
      "LAxman is 30 years old\n"
     ]
    }
   ],
   "source": [
    "name=\"RAM\"\n",
    "age=28\n",
    "#RAM is 28 years old.\n",
    "name=\"LAxman\"\n",
    "age=30\n",
    "#Laxman is 30 years old\n",
    "print(name,\"is\",age,\"years old\")\n",
    "print(f\"{name} is {age} years old\")\n",
    "print(\"%s is %s years old\"%(name, age))"
   ]
  },
  {
   "cell_type": "code",
   "execution_count": 22,
   "id": "2eeca3e9",
   "metadata": {},
   "outputs": [
    {
     "ename": "TypeError",
     "evalue": "can only concatenate str (not \"int\") to str",
     "output_type": "error",
     "traceback": [
      "\u001b[1;31m---------------------------------------------------------------------------\u001b[0m",
      "\u001b[1;31mTypeError\u001b[0m                                 Traceback (most recent call last)",
      "Cell \u001b[1;32mIn[22], line 7\u001b[0m\n\u001b[0;32m      5\u001b[0m age\u001b[38;5;241m=\u001b[39m\u001b[38;5;241m30\u001b[39m\n\u001b[0;32m      6\u001b[0m \u001b[38;5;66;03m#Laxman is 30 years old\u001b[39;00m\n\u001b[1;32m----> 7\u001b[0m \u001b[38;5;28mprint\u001b[39m(name\u001b[38;5;241m+\u001b[39m\u001b[38;5;124m\"\u001b[39m\u001b[38;5;124m is \u001b[39m\u001b[38;5;124m\"\u001b[39m\u001b[38;5;241m+\u001b[39mage,\u001b[38;5;124m\"\u001b[39m\u001b[38;5;124m years old\u001b[39m\u001b[38;5;124m\"\u001b[39m)\n\u001b[0;32m      8\u001b[0m \u001b[38;5;28mprint\u001b[39m(name,\u001b[38;5;124m\"\u001b[39m\u001b[38;5;124mis\u001b[39m\u001b[38;5;124m\"\u001b[39m,age,\u001b[38;5;124m\"\u001b[39m\u001b[38;5;124myears old\u001b[39m\u001b[38;5;124m\"\u001b[39m)\n\u001b[0;32m      9\u001b[0m \u001b[38;5;28mprint\u001b[39m(\u001b[38;5;124mf\u001b[39m\u001b[38;5;124m\"\u001b[39m\u001b[38;5;132;01m{\u001b[39;00mname\u001b[38;5;132;01m}\u001b[39;00m\u001b[38;5;124m is \u001b[39m\u001b[38;5;132;01m{\u001b[39;00mage\u001b[38;5;132;01m}\u001b[39;00m\u001b[38;5;124m years old\u001b[39m\u001b[38;5;124m\"\u001b[39m)\n",
      "\u001b[1;31mTypeError\u001b[0m: can only concatenate str (not \"int\") to str"
     ]
    }
   ],
   "source": [
    "name=\"RAM\"\n",
    "age=28\n",
    "#RAM is 28 years old.\n",
    "name=\"LAxman\"\n",
    "age=30\n",
    "#Laxman is 30 years old\n",
    "print(name+\" is \"+age,\" years old\")\n",
    "print(name,\"is\",age,\"years old\")\n",
    "print(f\"{name} is {age} years old\")\n",
    "print(\"%s is %s years old\"%(name, age))"
   ]
  },
  {
   "cell_type": "code",
   "execution_count": 24,
   "id": "4f345ea1",
   "metadata": {},
   "outputs": [
    {
     "name": "stdout",
     "output_type": "stream",
     "text": [
      "LAxman is 30 years old\n",
      "LAxman is 30 years old\n",
      "LAxman is 30 years old\n",
      "LAxman is 30 years old\n"
     ]
    }
   ],
   "source": [
    "name=\"RAM\"\n",
    "age=28\n",
    "#RAM is 28 years old.\n",
    "name=\"LAxman\"\n",
    "age=30\n",
    "#Laxman is 30 years old\n",
    "print(name+\" is \"+str(age)+\" years old\")\n",
    "print(name,\"is\",age,\"years old\")\n",
    "print(f\"{name} is {age} years old\")# template strings: f strings\n",
    "print(\"%s is %s years old\"%(name, age))# format specifiers"
   ]
  },
  {
   "cell_type": "code",
   "execution_count": 25,
   "id": "b6132991",
   "metadata": {},
   "outputs": [
    {
     "name": "stdout",
     "output_type": "stream",
     "text": [
      "LAxman is 30 years old\n",
      "LAxman is 30 years old\n",
      "LAxman is 30 years old\n",
      "LAxman is 30 years old\n",
      "LAxman is 30 years old\n"
     ]
    }
   ],
   "source": [
    "name=\"RAM\"\n",
    "age=28\n",
    "#RAM is 28 years old.\n",
    "name=\"LAxman\"\n",
    "age=30\n",
    "#Laxman is 30 years old\n",
    "print(name+\" is \"+str(age)+\" years old\")\n",
    "print(name,\"is\",age,\"years old\")\n",
    "print(f\"{name} is {age} years old\")# template strings: f strings\n",
    "print(\"%s is %s years old\"%(name, age))# format specifiers\n",
    "print(\"{0} is {1} years old\".format(name, age))"
   ]
  },
  {
   "cell_type": "code",
   "execution_count": 26,
   "id": "6269755c",
   "metadata": {},
   "outputs": [
    {
     "name": "stdout",
     "output_type": "stream",
     "text": [
      "LAxman is 30 years old\n",
      "LAxman is 30 years old\n",
      "LAxman is 30 years old\n",
      "LAxman is 30 years old\n",
      "LAxman is 30 years old\n"
     ]
    }
   ],
   "source": [
    "name=\"RAM\"\n",
    "age=28\n",
    "#RAM is 28 years old.\n",
    "name=\"LAxman\"\n",
    "age=30\n",
    "#Laxman is 30 years old\n",
    "print(name+\" is \"+str(age)+\" years old\")\n",
    "print(name,\"is\",age,\"years old\")\n",
    "print(f\"{name} is {age} years old\")# template strings: f strings\n",
    "print(\"%s is %s years old\"%(name, age))# format specifiers\n",
    "print(\"{} is {} years old\".format(name, age))"
   ]
  },
  {
   "cell_type": "code",
   "execution_count": 28,
   "id": "9554c4fe",
   "metadata": {},
   "outputs": [
    {
     "name": "stdout",
     "output_type": "stream",
     "text": [
      "becuase of Vibheeshana we got 1245.6879 Rupees profit\n"
     ]
    }
   ],
   "source": [
    "customer=\"Vibheeshana\"\n",
    "profit=1245.6879\n",
    "# because of vidheeshana we got 1245.69 Rupees profit.\n",
    "print(\"becuase of\",customer,\"we got\",profit,\"Rupees profit\")"
   ]
  },
  {
   "cell_type": "code",
   "execution_count": 32,
   "id": "b216f0a6",
   "metadata": {},
   "outputs": [
    {
     "name": "stdout",
     "output_type": "stream",
     "text": [
      "becuase of Vibheeshana we got 1245.69 Rupees profit\n",
      "because of Vibheeshana we got 1245.687900 Rupees profit\n",
      "because of Vibheeshana we got 1245.6879 Rupees profit\n"
     ]
    }
   ],
   "source": [
    "customer=\"Vibheeshana\"\n",
    "profit=1245.6879\n",
    "# because of vidheeshana we got 1245.69 Rupees profit.\n",
    "print(\"becuase of\",customer,\"we got\",round(profit,2),\"Rupees profit\")\n",
    "print(f\"because of {customer} we got {profit:f} Rupees profit\")\n",
    "print(\"because of %s we got %s Rupees profit\"%(customer, profit))"
   ]
  },
  {
   "cell_type": "code",
   "execution_count": 33,
   "id": "3728039a",
   "metadata": {},
   "outputs": [
    {
     "name": "stdout",
     "output_type": "stream",
     "text": [
      "becuase of Vibheeshana we got 1245.69 Rupees profit\n",
      "because of Vibheeshana we got 1245.687900 Rupees profit\n",
      "because of Vibheeshana we got 1245.6879 Rupees profit\n"
     ]
    }
   ],
   "source": [
    "customer=\"Vibheeshana\"\n",
    "profit=1245.6879\n",
    "# because of vidheeshana we got 1245.69 Rupees profit.\n",
    "print(\"becuase of\",customer,\"we got\",round(profit,2),\"Rupees profit\")\n",
    "print(f\"because of {customer} we got {profit:f} Rupees profit\")\n",
    "print(\"because of %s we got %s Rupees profit\"%(customer, profit))"
   ]
  },
  {
   "cell_type": "code",
   "execution_count": 34,
   "id": "78273ac2",
   "metadata": {},
   "outputs": [
    {
     "name": "stdout",
     "output_type": "stream",
     "text": [
      "becuase of Vibheeshana we got 1245.69 Rupees profit\n",
      "because of Vibheeshana we got 1245.69 Rupees profit\n",
      "because of Vibheeshana we got 1245.6879 Rupees profit\n"
     ]
    }
   ],
   "source": [
    "customer=\"Vibheeshana\"\n",
    "profit=1245.6879\n",
    "# because of vidheeshana we got 1245.69 Rupees profit.\n",
    "print(\"becuase of\",customer,\"we got\",round(profit,2),\"Rupees profit\")\n",
    "print(f\"because of {customer} we got {profit:.2f} Rupees profit\")\n",
    "print(\"because of %s we got %s Rupees profit\"%(customer, profit))"
   ]
  },
  {
   "cell_type": "code",
   "execution_count": 35,
   "id": "fa11fb6e",
   "metadata": {},
   "outputs": [
    {
     "name": "stdout",
     "output_type": "stream",
     "text": [
      "becuase of Vibheeshana we got 1245.69 Rupees profit\n",
      "because of Vibheeshana we got 1245.69 Rupees profit\n",
      "because of Vibheeshana we got 1245.69 Rupees profit\n"
     ]
    }
   ],
   "source": [
    "customer=\"Vibheeshana\"\n",
    "profit=1245.6879\n",
    "# because of vidheeshana we got 1245.69 Rupees profit.\n",
    "print(\"becuase of\",customer,\"we got\",round(profit,2),\"Rupees profit\")\n",
    "print(f\"because of {customer} we got {profit:.2f} Rupees profit\")\n",
    "print(\"because of %s we got %s Rupees profit\"%(customer, round(profit,2)))"
   ]
  },
  {
   "cell_type": "code",
   "execution_count": 36,
   "id": "fd6e1a70",
   "metadata": {},
   "outputs": [
    {
     "name": "stdout",
     "output_type": "stream",
     "text": [
      "becuase of Vibheeshana we got 1245.69 Rupees profit\n",
      "because of Vibheeshana we got 1245.69 Rupees profit\n",
      "because of Vibheeshana we got 1245.687900 Rupees profit\n"
     ]
    }
   ],
   "source": [
    "customer=\"Vibheeshana\"\n",
    "profit=1245.6879\n",
    "# because of vidheeshana we got 1245.69 Rupees profit.\n",
    "print(\"becuase of\",customer,\"we got\",round(profit,2),\"Rupees profit\")\n",
    "print(f\"because of {customer} we got {profit:.2f} Rupees profit\")\n",
    "print(\"because of %s we got %f Rupees profit\"%(customer, profit))"
   ]
  },
  {
   "cell_type": "code",
   "execution_count": 37,
   "id": "3cddbcd9",
   "metadata": {},
   "outputs": [
    {
     "name": "stdout",
     "output_type": "stream",
     "text": [
      "becuase of Vibheeshana we got 1245.69 Rupees profit\n",
      "because of Vibheeshana we got 1245.69 Rupees profit\n",
      "because of Vibheeshana we got 1245.69 Rupees profit\n"
     ]
    }
   ],
   "source": [
    "customer=\"Vibheeshana\"\n",
    "profit=1245.6879\n",
    "# because of vidheeshana we got 1245.69 Rupees profit.\n",
    "print(\"becuase of\",customer,\"we got\",round(profit,2),\"Rupees profit\")\n",
    "print(f\"because of {customer} we got {profit:.2f} Rupees profit\")\n",
    "print(\"because of %s we got %.2f Rupees profit\"%(customer, profit))"
   ]
  },
  {
   "cell_type": "code",
   "execution_count": 38,
   "id": "cd63b5ce",
   "metadata": {},
   "outputs": [],
   "source": [
    "#%s,%f,%d,%r"
   ]
  },
  {
   "cell_type": "code",
   "execution_count": 39,
   "id": "052d0848",
   "metadata": {},
   "outputs": [
    {
     "name": "stdout",
     "output_type": "stream",
     "text": [
      "sfdsf\n",
      "fdsf\n",
      "\tdsfds\t\n"
     ]
    }
   ],
   "source": [
    "w=\"sfdsf\\nfdsf\\n\\tdsfds\\t\"\n",
    "print(w)"
   ]
  },
  {
   "cell_type": "code",
   "execution_count": 40,
   "id": "3770dbfa",
   "metadata": {},
   "outputs": [
    {
     "name": "stdout",
     "output_type": "stream",
     "text": [
      "'sfdsf\\nfdsf\\n\\tdsfds\\t'\n"
     ]
    }
   ],
   "source": [
    "w=\"sfdsf\\nfdsf\\n\\tdsfds\\t\"\n",
    "print(\"%r\"%w)"
   ]
  },
  {
   "cell_type": "code",
   "execution_count": 41,
   "id": "8fa89313",
   "metadata": {},
   "outputs": [
    {
     "name": "stdout",
     "output_type": "stream",
     "text": [
      "sfdsf\\nfdsf\\n\\tdsfds\\t\n"
     ]
    }
   ],
   "source": [
    "w=r\"sfdsf\\nfdsf\\n\\tdsfds\\t\"\n",
    "print(w)"
   ]
  },
  {
   "cell_type": "code",
   "execution_count": 42,
   "id": "1cb6321b",
   "metadata": {},
   "outputs": [
    {
     "name": "stdout",
     "output_type": "stream",
     "text": [
      "w\n"
     ]
    }
   ],
   "source": [
    "w=\"sfdsf\\nfdsf\\n\\tdsfds\\t\"\n",
    "print(r\"w\")"
   ]
  },
  {
   "cell_type": "code",
   "execution_count": 43,
   "id": "cbd00b88",
   "metadata": {},
   "outputs": [
    {
     "name": "stdout",
     "output_type": "stream",
     "text": [
      "sfdsf\n",
      "fdsf\n",
      "\tdsfds\t\n"
     ]
    }
   ],
   "source": [
    "w=\"sfdsf\\nfdsf\\n\\tdsfds\\t\"\n",
    "print(r\"%s\"%w)"
   ]
  },
  {
   "cell_type": "code",
   "execution_count": 44,
   "id": "6f2b1e41",
   "metadata": {},
   "outputs": [
    {
     "name": "stdout",
     "output_type": "stream",
     "text": [
      "sfdsf\n",
      "fdsf\n",
      "\tdsfds\t\n"
     ]
    }
   ],
   "source": [
    "w=\"sfdsf\\nfdsf\\n\\tdsfds\\t\"\n",
    "print(f\"{w}\")"
   ]
  },
  {
   "cell_type": "code",
   "execution_count": 46,
   "id": "60fba495",
   "metadata": {},
   "outputs": [
    {
     "ename": "ValueError",
     "evalue": "Unknown format code 'r' for object of type 'str'",
     "output_type": "error",
     "traceback": [
      "\u001b[1;31m---------------------------------------------------------------------------\u001b[0m",
      "\u001b[1;31mValueError\u001b[0m                                Traceback (most recent call last)",
      "Cell \u001b[1;32mIn[46], line 2\u001b[0m\n\u001b[0;32m      1\u001b[0m w\u001b[38;5;241m=\u001b[39m\u001b[38;5;124m\"\u001b[39m\u001b[38;5;124msfdsf\u001b[39m\u001b[38;5;130;01m\\n\u001b[39;00m\u001b[38;5;124mfdsf\u001b[39m\u001b[38;5;130;01m\\n\u001b[39;00m\u001b[38;5;130;01m\\t\u001b[39;00m\u001b[38;5;124mdsfds\u001b[39m\u001b[38;5;130;01m\\t\u001b[39;00m\u001b[38;5;124m\"\u001b[39m\n\u001b[1;32m----> 2\u001b[0m \u001b[38;5;28mprint\u001b[39m(\u001b[38;5;124mf\u001b[39m\u001b[38;5;124m\"\u001b[39m\u001b[38;5;132;01m{\u001b[39;00mw\u001b[38;5;132;01m:\u001b[39;00m\u001b[38;5;124mr\u001b[39m\u001b[38;5;132;01m}\u001b[39;00m\u001b[38;5;124m\"\u001b[39m)\n",
      "\u001b[1;31mValueError\u001b[0m: Unknown format code 'r' for object of type 'str'"
     ]
    }
   ],
   "source": [
    "w=\"sfdsf\\nfdsf\\n\\tdsfds\\t\"\n",
    "print(f\"{w:r}\")"
   ]
  },
  {
   "cell_type": "code",
   "execution_count": 47,
   "id": "5e292657",
   "metadata": {},
   "outputs": [
    {
     "name": "stdout",
     "output_type": "stream",
     "text": [
      "sfdsf\n",
      "fdsf\n",
      "\tdsfds\t\n"
     ]
    }
   ],
   "source": [
    "w=\"sfdsf\\nfdsf\\n\\tdsfds\\t\"\n",
    "print(f\"{w:s}\")"
   ]
  },
  {
   "cell_type": "code",
   "execution_count": 48,
   "id": "e3f30388",
   "metadata": {},
   "outputs": [
    {
     "name": "stdout",
     "output_type": "stream",
     "text": [
      "12.3456\n"
     ]
    }
   ],
   "source": [
    "a=12.3456\n",
    "print(f\"{a}\")"
   ]
  },
  {
   "cell_type": "code",
   "execution_count": 49,
   "id": "96a190e2",
   "metadata": {},
   "outputs": [
    {
     "name": "stdout",
     "output_type": "stream",
     "text": [
      "12.35\n"
     ]
    }
   ],
   "source": [
    "a=12.3456\n",
    "print(f\"{a:.2f}\")"
   ]
  },
  {
   "cell_type": "code",
   "execution_count": 50,
   "id": "6615a90f",
   "metadata": {},
   "outputs": [
    {
     "ename": "ValueError",
     "evalue": "Unknown format code 'r' for object of type 'str'",
     "output_type": "error",
     "traceback": [
      "\u001b[1;31m---------------------------------------------------------------------------\u001b[0m",
      "\u001b[1;31mValueError\u001b[0m                                Traceback (most recent call last)",
      "Cell \u001b[1;32mIn[50], line 2\u001b[0m\n\u001b[0;32m      1\u001b[0m w\u001b[38;5;241m=\u001b[39m\u001b[38;5;124m\"\u001b[39m\u001b[38;5;124msfdsf\u001b[39m\u001b[38;5;130;01m\\n\u001b[39;00m\u001b[38;5;124mfdsf\u001b[39m\u001b[38;5;130;01m\\n\u001b[39;00m\u001b[38;5;130;01m\\t\u001b[39;00m\u001b[38;5;124mdsfds\u001b[39m\u001b[38;5;130;01m\\t\u001b[39;00m\u001b[38;5;124m\"\u001b[39m\n\u001b[1;32m----> 2\u001b[0m \u001b[38;5;28mprint\u001b[39m(\u001b[38;5;124mf\u001b[39m\u001b[38;5;124m\"\u001b[39m\u001b[38;5;132;01m{\u001b[39;00mw\u001b[38;5;132;01m:\u001b[39;00m\u001b[38;5;124mr\u001b[39m\u001b[38;5;132;01m}\u001b[39;00m\u001b[38;5;124m\"\u001b[39m)\n",
      "\u001b[1;31mValueError\u001b[0m: Unknown format code 'r' for object of type 'str'"
     ]
    }
   ],
   "source": [
    "w=\"sfdsf\\nfdsf\\n\\tdsfds\\t\"\n",
    "print(f\"{w:r}\")"
   ]
  },
  {
   "cell_type": "code",
   "execution_count": 51,
   "id": "ff8269fc",
   "metadata": {},
   "outputs": [
    {
     "name": "stdout",
     "output_type": "stream",
     "text": [
      "0b101001001111\n",
      "101001001111\n"
     ]
    }
   ],
   "source": [
    "s=2639\n",
    "print(bin(s))\n",
    "print(f\"{s:b}\")"
   ]
  },
  {
   "cell_type": "code",
   "execution_count": 52,
   "id": "286cfcb8",
   "metadata": {},
   "outputs": [
    {
     "name": "stdout",
     "output_type": "stream",
     "text": [
      "0b101001001111\n",
      "101001001111\n"
     ]
    },
    {
     "ename": "ValueError",
     "evalue": "unsupported format character 'b' (0x62) at index 1",
     "output_type": "error",
     "traceback": [
      "\u001b[1;31m---------------------------------------------------------------------------\u001b[0m",
      "\u001b[1;31mValueError\u001b[0m                                Traceback (most recent call last)",
      "Cell \u001b[1;32mIn[52], line 4\u001b[0m\n\u001b[0;32m      2\u001b[0m \u001b[38;5;28mprint\u001b[39m(\u001b[38;5;28mbin\u001b[39m(s))\n\u001b[0;32m      3\u001b[0m \u001b[38;5;28mprint\u001b[39m(\u001b[38;5;124mf\u001b[39m\u001b[38;5;124m\"\u001b[39m\u001b[38;5;132;01m{\u001b[39;00ms\u001b[38;5;132;01m:\u001b[39;00m\u001b[38;5;124mb\u001b[39m\u001b[38;5;132;01m}\u001b[39;00m\u001b[38;5;124m\"\u001b[39m)\n\u001b[1;32m----> 4\u001b[0m \u001b[38;5;28mprint\u001b[39m(\u001b[38;5;124m\"\u001b[39m\u001b[38;5;124m%\u001b[39m\u001b[38;5;124mb\u001b[39m\u001b[38;5;124m\"\u001b[39m\u001b[38;5;241m%\u001b[39ms)\n",
      "\u001b[1;31mValueError\u001b[0m: unsupported format character 'b' (0x62) at index 1"
     ]
    }
   ],
   "source": [
    "s=2639\n",
    "print(bin(s))\n",
    "print(f\"{s:b}\")\n",
    "print(\"%b\"%s)"
   ]
  },
  {
   "cell_type": "code",
   "execution_count": 53,
   "id": "2cbfded6",
   "metadata": {},
   "outputs": [
    {
     "name": "stdout",
     "output_type": "stream",
     "text": [
      "214\n"
     ]
    }
   ],
   "source": [
    "a=214\n",
    "print(a)"
   ]
  },
  {
   "cell_type": "code",
   "execution_count": null,
   "id": "bde6a6aa",
   "metadata": {},
   "outputs": [],
   "source": []
  }
 ],
 "metadata": {
  "kernelspec": {
   "display_name": "Python 3 (ipykernel)",
   "language": "python",
   "name": "python3"
  },
  "language_info": {
   "codemirror_mode": {
    "name": "ipython",
    "version": 3
   },
   "file_extension": ".py",
   "mimetype": "text/x-python",
   "name": "python",
   "nbconvert_exporter": "python",
   "pygments_lexer": "ipython3",
   "version": "3.11.3"
  }
 },
 "nbformat": 4,
 "nbformat_minor": 5
}
